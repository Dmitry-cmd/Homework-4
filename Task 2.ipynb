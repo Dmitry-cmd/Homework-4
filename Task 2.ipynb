{
 "cells": [
  {
   "cell_type": "code",
   "execution_count": 14,
   "metadata": {},
   "outputs": [
    {
     "name": "stdout",
     "output_type": "stream",
     "text": [
      "Кто пересекает границу: \n",
      "\n",
      "Дима\n",
      "\n",
      "Кто пересекает границу: \n",
      "\n",
      "Вика\n",
      "\n",
      "Кто пересекает границу: \n",
      "\n",
      "Катя\n",
      "\n",
      "Кто пересекает границу: \n",
      "\n",
      "END\n",
      "\n",
      "Дима -\n",
      "Вика -\n",
      "Катя -\n"
     ]
    }
   ],
   "source": [
    "list_border = []\n",
    "while True:\n",
    "    print('Кто пересекает границу: ')\n",
    "    print()\n",
    "    new_person = input()\n",
    "    print()\n",
    "    if new_person == 'END':\n",
    "        break\n",
    "    else:\n",
    "        list_border.append(new_person)\n",
    "        \n",
    "for i in list_border:\n",
    "    print(i,'-')\n",
    "    \n",
    "\n"
   ]
  },
  {
   "cell_type": "code",
   "execution_count": 32,
   "metadata": {},
   "outputs": [
    {
     "name": "stdout",
     "output_type": "stream",
     "text": [
      "Кто пересекает границу: \n",
      "\n",
      "Дима\n",
      "\n",
      "Кто пересекает границу: \n",
      "\n",
      "Дима\n",
      "\n",
      "Кто пересекает границу: \n",
      "\n",
      "Вова\n",
      "\n",
      "Кто пересекает границу: \n",
      "\n",
      "END\n",
      "\n",
      "Counter({'Дима': 2, 'Вова': 1})\n"
     ]
    }
   ],
   "source": [
    "from collections import Counter\n",
    "list_border = []\n",
    "while True:\n",
    "    print('Кто пересекает границу: ')\n",
    "    print()\n",
    "    new_person = input()\n",
    "    print()\n",
    "    if new_person == 'END':\n",
    "        break\n",
    "    else:\n",
    "        list_border.append(new_person)\n",
    "x = Counter(list_border)\n",
    "print(x)"
   ]
  }
 ],
 "metadata": {
  "kernelspec": {
   "display_name": "Python 3",
   "language": "python",
   "name": "python3"
  },
  "language_info": {
   "codemirror_mode": {
    "name": "ipython",
    "version": 3
   },
   "file_extension": ".py",
   "mimetype": "text/x-python",
   "name": "python",
   "nbconvert_exporter": "python",
   "pygments_lexer": "ipython3",
   "version": "3.8.2"
  }
 },
 "nbformat": 4,
 "nbformat_minor": 4
}
