{
 "cells": [
  {
   "cell_type": "code",
   "execution_count": 7,
   "metadata": {},
   "outputs": [
    {
     "name": "stdout",
     "output_type": "stream",
     "text": [
      "Введите свое имя: Дмитрий\n",
      "Дмитрий, угадайте число от 1 до 10\n",
      "\n",
      "Введите число: 5\n",
      "\n",
      "Упс... Неудача. У Вас осталось 2 попытки.\n",
      "Подсказка: загаданное число больше 5\n",
      "Попробуйте еще раз!\n",
      "\n",
      "Введите число: 7\n",
      "\n",
      "Вот это удача! Вы выиграли\n",
      "\n",
      "Испытаешь судьбу еще раз? =)\n"
     ]
    }
   ],
   "source": [
    "import random\n",
    "x = input('Введите свое имя: ')\n",
    "print(f'{x}, угадайте число от 1 до 10')\n",
    "print()\n",
    "c = int(input('Введите число: '))\n",
    "print()\n",
    "num = random.randint(1,10)\n",
    "for i in range(1,4):\n",
    "    A = 3 - i\n",
    "    \n",
    "    if c == num:\n",
    "        print('Вот это удача! Вы выиграли')\n",
    "        break\n",
    "        \n",
    "    elif c != num:\n",
    "        \n",
    "        if c < num:\n",
    "            if A == 2:\n",
    "                print(f'Упс... Неудача. У Вас осталось {A} попытки.\\nПодсказка: загаданное число больше {c}\\nПопробуйте еще раз!')\n",
    "                print()\n",
    "                c = int(input('Введите число: '))\n",
    "                print()\n",
    "            elif A == 1:\n",
    "                print(f'Ой ой, по краю ходишь! Осталось {A} попытка.\\nПодсказка: загаданное число больше {c}\\nПопробуйте еще раз!')\n",
    "                print()\n",
    "                c = int(input('Введите число: '))\n",
    "                print()\n",
    "            elif A == 0:\n",
    "                print(f'{x}, к сожалению, Вы проиграли')\n",
    "                print()\n",
    "                \n",
    "        elif c > num:\n",
    "            if A == 2:\n",
    "                print(f'Упс... Неудача. У Вас осталось {A} попытки.\\nПодсказка: загаданное число меньше {c}\\nПопробуйте еще раз!')\n",
    "                print()\n",
    "                c = int(input('Введите число: '))\n",
    "                print()\n",
    "            elif A == 1:\n",
    "                print(f'Ой ой, по краю ходишь! Осталось {A} попытка.\\nПодсказка: загаданное число меньше {c}\\nПопробуйте еще раз!')\n",
    "                print()\n",
    "                c = int(input('Введите число: '))\n",
    "                print()\n",
    "            elif A == 0:\n",
    "                print(f'{x}, к сожалению, Вы проиграли.') \n",
    "print()\n",
    "print('Испытаешь судьбу еще раз? =)')"
   ]
  }
 ],
 "metadata": {
  "kernelspec": {
   "display_name": "Python 3",
   "language": "python",
   "name": "python3"
  },
  "language_info": {
   "codemirror_mode": {
    "name": "ipython",
    "version": 3
   },
   "file_extension": ".py",
   "mimetype": "text/x-python",
   "name": "python",
   "nbconvert_exporter": "python",
   "pygments_lexer": "ipython3",
   "version": "3.8.2"
  }
 },
 "nbformat": 4,
 "nbformat_minor": 4
}
